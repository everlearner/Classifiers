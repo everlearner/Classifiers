{
 "metadata": {
  "language_info": {
   "codemirror_mode": {
    "name": "ipython",
    "version": 3
   },
   "file_extension": ".py",
   "mimetype": "text/x-python",
   "name": "python",
   "nbconvert_exporter": "python",
   "pygments_lexer": "ipython3",
   "version": "3.8.5-final"
  },
  "orig_nbformat": 2,
  "kernelspec": {
   "name": "python3",
   "display_name": "Python 3",
   "language": "python"
  }
 },
 "nbformat": 4,
 "nbformat_minor": 2,
 "cells": [
  {
   "cell_type": "code",
   "execution_count": 14,
   "metadata": {},
   "outputs": [],
   "source": [
    "import pandas as pd\n",
    "import numpy as np\n",
    "from sklearn.model_selection import KFold\n",
    "from sklearn import preprocessing\n",
    "from sklearn.model_selection import cross_val_score\n",
    "from sklearn.metrics import classification_report\n",
    "from sklearn.metrics import accuracy_score\n",
    "from sklearn.linear_model import LogisticRegression\n",
    "from sklearn.naive_bayes import GaussianNB\n",
    "from sklearn.linear_model import Perceptron\n",
    "from sklearn.discriminant_analysis import LinearDiscriminantAnalysis\n",
    "from sklearn import svm\n",
    "from sklearn.neural_network import MLPClassifier\n",
    "from sklearn.metrics import mean_squared_error "
   ]
  },
  {
   "cell_type": "code",
   "execution_count": 3,
   "metadata": {},
   "outputs": [
    {
     "output_type": "execute_result",
     "data": {
      "text/plain": [
       "    Area  MajorAxisLength  MinorAxisLength  Eccentricity  ConvexArea  \\\n",
       "id                                                                     \n",
       "1   4537        92.229317        64.012769      0.719916        4677   \n",
       "2   2872        74.691881        51.400454      0.725553        3015   \n",
       "3   3048        76.293164        52.043491      0.731211        3132   \n",
       "4   3073        77.033628        51.928487      0.738639        3157   \n",
       "5   3693        85.124785        56.374021      0.749282        3802   \n",
       "\n",
       "    EquivDiameter    Extent  Perimeter  Roundness  AspectRation    Class  \n",
       "id                                                                        \n",
       "1       76.004525  0.657536    273.085   0.764510      1.440796  jasmine  \n",
       "2       60.471018  0.713009    208.317   0.831658      1.453137  jasmine  \n",
       "3       62.296341  0.759153    210.012   0.868434      1.465950  jasmine  \n",
       "4       62.551300  0.783529    210.657   0.870203      1.483456  jasmine  \n",
       "5       68.571668  0.769375    230.332   0.874743      1.510000  jasmine  "
      ],
      "text/html": "<div>\n<style scoped>\n    .dataframe tbody tr th:only-of-type {\n        vertical-align: middle;\n    }\n\n    .dataframe tbody tr th {\n        vertical-align: top;\n    }\n\n    .dataframe thead th {\n        text-align: right;\n    }\n</style>\n<table border=\"1\" class=\"dataframe\">\n  <thead>\n    <tr style=\"text-align: right;\">\n      <th></th>\n      <th>Area</th>\n      <th>MajorAxisLength</th>\n      <th>MinorAxisLength</th>\n      <th>Eccentricity</th>\n      <th>ConvexArea</th>\n      <th>EquivDiameter</th>\n      <th>Extent</th>\n      <th>Perimeter</th>\n      <th>Roundness</th>\n      <th>AspectRation</th>\n      <th>Class</th>\n    </tr>\n    <tr>\n      <th>id</th>\n      <th></th>\n      <th></th>\n      <th></th>\n      <th></th>\n      <th></th>\n      <th></th>\n      <th></th>\n      <th></th>\n      <th></th>\n      <th></th>\n      <th></th>\n    </tr>\n  </thead>\n  <tbody>\n    <tr>\n      <th>1</th>\n      <td>4537</td>\n      <td>92.229317</td>\n      <td>64.012769</td>\n      <td>0.719916</td>\n      <td>4677</td>\n      <td>76.004525</td>\n      <td>0.657536</td>\n      <td>273.085</td>\n      <td>0.764510</td>\n      <td>1.440796</td>\n      <td>jasmine</td>\n    </tr>\n    <tr>\n      <th>2</th>\n      <td>2872</td>\n      <td>74.691881</td>\n      <td>51.400454</td>\n      <td>0.725553</td>\n      <td>3015</td>\n      <td>60.471018</td>\n      <td>0.713009</td>\n      <td>208.317</td>\n      <td>0.831658</td>\n      <td>1.453137</td>\n      <td>jasmine</td>\n    </tr>\n    <tr>\n      <th>3</th>\n      <td>3048</td>\n      <td>76.293164</td>\n      <td>52.043491</td>\n      <td>0.731211</td>\n      <td>3132</td>\n      <td>62.296341</td>\n      <td>0.759153</td>\n      <td>210.012</td>\n      <td>0.868434</td>\n      <td>1.465950</td>\n      <td>jasmine</td>\n    </tr>\n    <tr>\n      <th>4</th>\n      <td>3073</td>\n      <td>77.033628</td>\n      <td>51.928487</td>\n      <td>0.738639</td>\n      <td>3157</td>\n      <td>62.551300</td>\n      <td>0.783529</td>\n      <td>210.657</td>\n      <td>0.870203</td>\n      <td>1.483456</td>\n      <td>jasmine</td>\n    </tr>\n    <tr>\n      <th>5</th>\n      <td>3693</td>\n      <td>85.124785</td>\n      <td>56.374021</td>\n      <td>0.749282</td>\n      <td>3802</td>\n      <td>68.571668</td>\n      <td>0.769375</td>\n      <td>230.332</td>\n      <td>0.874743</td>\n      <td>1.510000</td>\n      <td>jasmine</td>\n    </tr>\n  </tbody>\n</table>\n</div>"
     },
     "metadata": {},
     "execution_count": 3
    }
   ],
   "source": [
    "df = pd.read_csv(\"dataset_comb.csv\")\n",
    "df = df.set_index(\"id\")\n",
    "df.head()\n",
    "\n"
   ]
  },
  {
   "cell_type": "code",
   "execution_count": 4,
   "metadata": {},
   "outputs": [
    {
     "output_type": "execute_result",
     "data": {
      "text/plain": [
       "0    9985\n",
       "1    8200\n",
       "Name: Class, dtype: int64"
      ]
     },
     "metadata": {},
     "execution_count": 4
    }
   ],
   "source": [
    "df['Class'] = df.Class.replace(to_replace=['jasmine', 'Gonen'], value=[0, 1])\n",
    "df.Class.value_counts()"
   ]
  },
  {
   "source": [
    "## Pre-Processing"
   ],
   "cell_type": "markdown",
   "metadata": {}
  },
  {
   "cell_type": "code",
   "execution_count": 5,
   "metadata": {},
   "outputs": [
    {
     "output_type": "stream",
     "name": "stdout",
     "text": [
      "[ 7.50201844e-17 -1.75047097e-15 -3.87604286e-16 -1.33160827e-15\n  1.87550461e-16  1.47539696e-15 -7.75208572e-16 -1.15030949e-15\n  2.81325691e-16 -1.50040369e-16]\n[1. 1. 1. 1. 1. 1. 1. 1. 1. 1.]\n"
     ]
    }
   ],
   "source": [
    "data = df.to_numpy()\n",
    "X = data[:,0:10]\n",
    "Y = data[:,10]\n",
    "scaler = preprocessing.StandardScaler() #Normalisation\n",
    "\n",
    "X = scaler.fit_transform(X)\n",
    "\n",
    "print(X.mean(axis=0))\n",
    "print(X.std(axis = 0))"
   ]
  },
  {
   "cell_type": "code",
   "execution_count": null,
   "metadata": {},
   "outputs": [],
   "source": [
    "#model1 = LogisticRegression()\n",
    "#output1 = cross_val_score(model1, X, Y, cv=7)\n",
    "#output1 = output1.reshape([output1.shape[0], 1])\n",
    "#output1\n"
   ]
  },
  {
   "cell_type": "code",
   "execution_count": 16,
   "metadata": {},
   "outputs": [],
   "source": [
    "class classifier:\n",
    "    def __init__(self, type_of_model):\n",
    "        self.train_accuracy = []\n",
    "        self.test_accuracy = []\n",
    "        self.test_mean_Sq_error = []\n",
    "        \n",
    "        if(type_of_model == 'LR'):\n",
    "            self.model = LogisticRegression()\n",
    "        \n",
    "        elif(type_of_model == 'NB'):\n",
    "            self.model = GaussianNB()\n",
    "\n",
    "        elif(type_of_model == 'LP'):\n",
    "            self.model = Perceptron()\n",
    "        \n",
    "        elif(type_of_model == 'FLD'):\n",
    "            self.model = LinearDiscriminantAnalysis()\n",
    "        \n",
    "        elif(type_of_model == 'SVM'):\n",
    "            self.model = svm.SVC()\n",
    "        \n",
    "        elif(type_of_model == 'ANN'):\n",
    "            self.model = MLPClassifier()\n",
    "\n",
    "\n",
    "    def train(self, x_train, y_train, x_test, y_test):\n",
    "        self.model_fit = self.model.fit(x_train, y_train)\n",
    "        prediction_train = self.model_fit.predict(x_train)\n",
    "        prediction_test = self.model_fit.predict(x_test)\n",
    "        self.train_accuracy.append(accuracy_score(y_train, prediction_train))\n",
    "        self.test_accuracy.append(accuracy_score(y_test, prediction_test))\n",
    "        self.test_mean_Sq_error.append(mean_squared_error(y_test, prediction_test)) "
   ]
  },
  {
   "cell_type": "code",
   "execution_count": 17,
   "metadata": {},
   "outputs": [],
   "source": [
    "ob1 = classifier('FLD')\n",
    "ob2 = classifier('LP')\n",
    "ob3 = classifier('NB')\n",
    "ob4 = classifier('LR')\n",
    "ob5 = classifier('ANN')\n",
    "ob6 = classifier('SVM')\n",
    "\n",
    "kf = KFold(n_splits = 7, shuffle = True )\n",
    "for train_index, test_index in kf.split(X):\n",
    "    #print(\"TRAIN:\", train_index, \"TEST:\", test_index)\n",
    "    x_train, x_test = X[train_index], X[test_index]\n",
    "    y_train, y_test = Y[train_index], Y[test_index]\n",
    "\n",
    "    ob1.train(x_train, y_train, x_test, y_test)\n",
    "    ob2.train(x_train, y_train, x_test, y_test)\n",
    "    ob3.train(x_train, y_train, x_test, y_test)\n",
    "    ob4.train(x_train, y_train, x_test, y_test)\n",
    "    ob5.train(x_train, y_train, x_test, y_test)\n",
    "    ob6.train(x_train, y_train, x_test, y_test)\n",
    "\n"
   ]
  },
  {
   "cell_type": "code",
   "execution_count": 18,
   "metadata": {},
   "outputs": [
    {
     "output_type": "stream",
     "name": "stdout",
     "text": [
      "Train Accuracies\n"
     ]
    },
    {
     "output_type": "execute_result",
     "data": {
      "text/plain": [
       "         LR        NB        LP       FLD       SVM       ANN\n",
       "0  0.986656  0.979085  0.983769  0.989286  0.991018  0.990762\n",
       "1  0.986720  0.981716  0.983833  0.988773  0.990120  0.990569\n",
       "2  0.986656  0.981844  0.983897  0.988773  0.990312  0.990312\n",
       "3  0.987169  0.978700  0.983576  0.989350  0.990697  0.990377\n",
       "4  0.986271  0.986784  0.983384  0.989607  0.990633  0.990569\n",
       "5  0.987233  0.987875  0.984025  0.989735  0.990954  0.990762\n",
       "6  0.986656  0.984347  0.983449  0.989158  0.990249  0.990826"
      ],
      "text/html": "<div>\n<style scoped>\n    .dataframe tbody tr th:only-of-type {\n        vertical-align: middle;\n    }\n\n    .dataframe tbody tr th {\n        vertical-align: top;\n    }\n\n    .dataframe thead th {\n        text-align: right;\n    }\n</style>\n<table border=\"1\" class=\"dataframe\">\n  <thead>\n    <tr style=\"text-align: right;\">\n      <th></th>\n      <th>LR</th>\n      <th>NB</th>\n      <th>LP</th>\n      <th>FLD</th>\n      <th>SVM</th>\n      <th>ANN</th>\n    </tr>\n  </thead>\n  <tbody>\n    <tr>\n      <th>0</th>\n      <td>0.986656</td>\n      <td>0.979085</td>\n      <td>0.983769</td>\n      <td>0.989286</td>\n      <td>0.991018</td>\n      <td>0.990762</td>\n    </tr>\n    <tr>\n      <th>1</th>\n      <td>0.986720</td>\n      <td>0.981716</td>\n      <td>0.983833</td>\n      <td>0.988773</td>\n      <td>0.990120</td>\n      <td>0.990569</td>\n    </tr>\n    <tr>\n      <th>2</th>\n      <td>0.986656</td>\n      <td>0.981844</td>\n      <td>0.983897</td>\n      <td>0.988773</td>\n      <td>0.990312</td>\n      <td>0.990312</td>\n    </tr>\n    <tr>\n      <th>3</th>\n      <td>0.987169</td>\n      <td>0.978700</td>\n      <td>0.983576</td>\n      <td>0.989350</td>\n      <td>0.990697</td>\n      <td>0.990377</td>\n    </tr>\n    <tr>\n      <th>4</th>\n      <td>0.986271</td>\n      <td>0.986784</td>\n      <td>0.983384</td>\n      <td>0.989607</td>\n      <td>0.990633</td>\n      <td>0.990569</td>\n    </tr>\n    <tr>\n      <th>5</th>\n      <td>0.987233</td>\n      <td>0.987875</td>\n      <td>0.984025</td>\n      <td>0.989735</td>\n      <td>0.990954</td>\n      <td>0.990762</td>\n    </tr>\n    <tr>\n      <th>6</th>\n      <td>0.986656</td>\n      <td>0.984347</td>\n      <td>0.983449</td>\n      <td>0.989158</td>\n      <td>0.990249</td>\n      <td>0.990826</td>\n    </tr>\n  </tbody>\n</table>\n</div>"
     },
     "metadata": {},
     "execution_count": 18
    }
   ],
   "source": [
    "df1 = pd.DataFrame({'LR': ob1.train_accuracy , 'NB': ob2.train_accuracy, 'LP': ob3.train_accuracy, 'FLD': ob4.train_accuracy, 'SVM': ob5.train_accuracy, 'ANN':ob6.train_accuracy})\n",
    "print(\"Train Accuracies\")\n",
    "df1"
   ]
  },
  {
   "cell_type": "code",
   "execution_count": 24,
   "metadata": {},
   "outputs": [
    {
     "output_type": "execute_result",
     "data": {
      "text/plain": [
       "             LR        NB        LP       FLD       SVM       ANN\n",
       "count  7.000000  7.000000  7.000000  7.000000  7.000000  7.000000\n",
       "mean   0.986766  0.982907  0.983705  0.989240  0.990569  0.990597\n",
       "std    0.000333  0.003574  0.000240  0.000374  0.000351  0.000199\n",
       "min    0.986271  0.978700  0.983384  0.988773  0.990120  0.990312\n",
       "25%    0.986656  0.980400  0.983512  0.988966  0.990281  0.990473\n",
       "50%    0.986656  0.981844  0.983769  0.989286  0.990633  0.990569\n",
       "75%    0.986944  0.985565  0.983865  0.989478  0.990826  0.990762\n",
       "max    0.987233  0.987875  0.984025  0.989735  0.991018  0.990826"
      ],
      "text/html": "<div>\n<style scoped>\n    .dataframe tbody tr th:only-of-type {\n        vertical-align: middle;\n    }\n\n    .dataframe tbody tr th {\n        vertical-align: top;\n    }\n\n    .dataframe thead th {\n        text-align: right;\n    }\n</style>\n<table border=\"1\" class=\"dataframe\">\n  <thead>\n    <tr style=\"text-align: right;\">\n      <th></th>\n      <th>LR</th>\n      <th>NB</th>\n      <th>LP</th>\n      <th>FLD</th>\n      <th>SVM</th>\n      <th>ANN</th>\n    </tr>\n  </thead>\n  <tbody>\n    <tr>\n      <th>count</th>\n      <td>7.000000</td>\n      <td>7.000000</td>\n      <td>7.000000</td>\n      <td>7.000000</td>\n      <td>7.000000</td>\n      <td>7.000000</td>\n    </tr>\n    <tr>\n      <th>mean</th>\n      <td>0.986766</td>\n      <td>0.982907</td>\n      <td>0.983705</td>\n      <td>0.989240</td>\n      <td>0.990569</td>\n      <td>0.990597</td>\n    </tr>\n    <tr>\n      <th>std</th>\n      <td>0.000333</td>\n      <td>0.003574</td>\n      <td>0.000240</td>\n      <td>0.000374</td>\n      <td>0.000351</td>\n      <td>0.000199</td>\n    </tr>\n    <tr>\n      <th>min</th>\n      <td>0.986271</td>\n      <td>0.978700</td>\n      <td>0.983384</td>\n      <td>0.988773</td>\n      <td>0.990120</td>\n      <td>0.990312</td>\n    </tr>\n    <tr>\n      <th>25%</th>\n      <td>0.986656</td>\n      <td>0.980400</td>\n      <td>0.983512</td>\n      <td>0.988966</td>\n      <td>0.990281</td>\n      <td>0.990473</td>\n    </tr>\n    <tr>\n      <th>50%</th>\n      <td>0.986656</td>\n      <td>0.981844</td>\n      <td>0.983769</td>\n      <td>0.989286</td>\n      <td>0.990633</td>\n      <td>0.990569</td>\n    </tr>\n    <tr>\n      <th>75%</th>\n      <td>0.986944</td>\n      <td>0.985565</td>\n      <td>0.983865</td>\n      <td>0.989478</td>\n      <td>0.990826</td>\n      <td>0.990762</td>\n    </tr>\n    <tr>\n      <th>max</th>\n      <td>0.987233</td>\n      <td>0.987875</td>\n      <td>0.984025</td>\n      <td>0.989735</td>\n      <td>0.991018</td>\n      <td>0.990826</td>\n    </tr>\n  </tbody>\n</table>\n</div>"
     },
     "metadata": {},
     "execution_count": 24
    }
   ],
   "source": [
    "df1.describe()"
   ]
  },
  {
   "cell_type": "code",
   "execution_count": 19,
   "metadata": {},
   "outputs": [
    {
     "output_type": "stream",
     "name": "stdout",
     "text": [
      "Test Accuracies\n"
     ]
    },
    {
     "output_type": "execute_result",
     "data": {
      "text/plain": [
       "        FLD        LP        NB        LR       ANN       SVM\n",
       "0  0.987298  0.980754  0.983064  0.988838  0.988838  0.989992\n",
       "1  0.986143  0.981909  0.982679  0.989992  0.990377  0.990762\n",
       "2  0.988068  0.984988  0.982679  0.991147  0.992687  0.992302\n",
       "3  0.983834  0.980370  0.984219  0.989222  0.989992  0.991532\n",
       "4  0.989607  0.985758  0.984604  0.988068  0.989222  0.988838\n",
       "5  0.984219  0.984988  0.982294  0.987683  0.989992  0.988838\n",
       "6  0.987678  0.984213  0.985753  0.989218  0.989603  0.989988"
      ],
      "text/html": "<div>\n<style scoped>\n    .dataframe tbody tr th:only-of-type {\n        vertical-align: middle;\n    }\n\n    .dataframe tbody tr th {\n        vertical-align: top;\n    }\n\n    .dataframe thead th {\n        text-align: right;\n    }\n</style>\n<table border=\"1\" class=\"dataframe\">\n  <thead>\n    <tr style=\"text-align: right;\">\n      <th></th>\n      <th>FLD</th>\n      <th>LP</th>\n      <th>NB</th>\n      <th>LR</th>\n      <th>ANN</th>\n      <th>SVM</th>\n    </tr>\n  </thead>\n  <tbody>\n    <tr>\n      <th>0</th>\n      <td>0.987298</td>\n      <td>0.980754</td>\n      <td>0.983064</td>\n      <td>0.988838</td>\n      <td>0.988838</td>\n      <td>0.989992</td>\n    </tr>\n    <tr>\n      <th>1</th>\n      <td>0.986143</td>\n      <td>0.981909</td>\n      <td>0.982679</td>\n      <td>0.989992</td>\n      <td>0.990377</td>\n      <td>0.990762</td>\n    </tr>\n    <tr>\n      <th>2</th>\n      <td>0.988068</td>\n      <td>0.984988</td>\n      <td>0.982679</td>\n      <td>0.991147</td>\n      <td>0.992687</td>\n      <td>0.992302</td>\n    </tr>\n    <tr>\n      <th>3</th>\n      <td>0.983834</td>\n      <td>0.980370</td>\n      <td>0.984219</td>\n      <td>0.989222</td>\n      <td>0.989992</td>\n      <td>0.991532</td>\n    </tr>\n    <tr>\n      <th>4</th>\n      <td>0.989607</td>\n      <td>0.985758</td>\n      <td>0.984604</td>\n      <td>0.988068</td>\n      <td>0.989222</td>\n      <td>0.988838</td>\n    </tr>\n    <tr>\n      <th>5</th>\n      <td>0.984219</td>\n      <td>0.984988</td>\n      <td>0.982294</td>\n      <td>0.987683</td>\n      <td>0.989992</td>\n      <td>0.988838</td>\n    </tr>\n    <tr>\n      <th>6</th>\n      <td>0.987678</td>\n      <td>0.984213</td>\n      <td>0.985753</td>\n      <td>0.989218</td>\n      <td>0.989603</td>\n      <td>0.989988</td>\n    </tr>\n  </tbody>\n</table>\n</div>"
     },
     "metadata": {},
     "execution_count": 19
    }
   ],
   "source": [
    "df2 = pd.DataFrame({'FLD': ob1.test_accuracy , 'LP': ob2.test_accuracy, 'NB': ob3.test_accuracy, 'LR': ob4.test_accuracy, 'ANN': ob5.test_accuracy, 'SVM':ob6.test_accuracy})\n",
    "print(\"Test Accuracies\")\n",
    "df2\n"
   ]
  },
  {
   "cell_type": "code",
   "execution_count": 20,
   "metadata": {},
   "outputs": [
    {
     "output_type": "execute_result",
     "data": {
      "text/plain": [
       "<matplotlib.axes._subplots.AxesSubplot at 0x7fe589a89a60>"
      ]
     },
     "metadata": {},
     "execution_count": 20
    },
    {
     "output_type": "display_data",
     "data": {
      "text/plain": "<Figure size 432x288 with 1 Axes>",
      "image/svg+xml": "<?xml version=\"1.0\" encoding=\"utf-8\" standalone=\"no\"?>\n<!DOCTYPE svg PUBLIC \"-//W3C//DTD SVG 1.1//EN\"\n  \"http://www.w3.org/Graphics/SVG/1.1/DTD/svg11.dtd\">\n<!-- Created with matplotlib (https://matplotlib.org/) -->\n<svg height=\"263.63625pt\" version=\"1.1\" viewBox=\"0 0 384.828125 263.63625\" width=\"384.828125pt\" xmlns=\"http://www.w3.org/2000/svg\" xmlns:xlink=\"http://www.w3.org/1999/xlink\">\n <defs>\n  <style type=\"text/css\">\n*{stroke-linecap:butt;stroke-linejoin:round;}\n  </style>\n </defs>\n <g id=\"figure_1\">\n  <g id=\"patch_1\">\n   <path d=\"M 0 263.63625 \nL 384.828125 263.63625 \nL 384.828125 0 \nL 0 0 \nz\n\" style=\"fill:none;\"/>\n  </g>\n  <g id=\"axes_1\">\n   <g id=\"patch_2\">\n    <path d=\"M 42.828125 239.758125 \nL 377.628125 239.758125 \nL 377.628125 22.318125 \nL 42.828125 22.318125 \nz\n\" style=\"fill:#ffffff;\"/>\n   </g>\n   <g id=\"matplotlib.axis_1\">\n    <g id=\"xtick_1\">\n     <g id=\"line2d_1\">\n      <defs>\n       <path d=\"M 0 0 \nL 0 3.5 \n\" id=\"m1a0287379d\" style=\"stroke:#000000;stroke-width:0.8;\"/>\n      </defs>\n      <g>\n       <use style=\"stroke:#000000;stroke-width:0.8;\" x=\"70.728125\" xlink:href=\"#m1a0287379d\" y=\"239.758125\"/>\n      </g>\n     </g>\n     <g id=\"text_1\">\n      <!-- FLD -->\n      <defs>\n       <path d=\"M 9.8125 72.90625 \nL 51.703125 72.90625 \nL 51.703125 64.59375 \nL 19.671875 64.59375 \nL 19.671875 43.109375 \nL 48.578125 43.109375 \nL 48.578125 34.8125 \nL 19.671875 34.8125 \nL 19.671875 0 \nL 9.8125 0 \nz\n\" id=\"DejaVuSans-70\"/>\n       <path d=\"M 9.8125 72.90625 \nL 19.671875 72.90625 \nL 19.671875 8.296875 \nL 55.171875 8.296875 \nL 55.171875 0 \nL 9.8125 0 \nz\n\" id=\"DejaVuSans-76\"/>\n       <path d=\"M 19.671875 64.796875 \nL 19.671875 8.109375 \nL 31.59375 8.109375 \nQ 46.6875 8.109375 53.6875 14.9375 \nQ 60.6875 21.78125 60.6875 36.53125 \nQ 60.6875 51.171875 53.6875 57.984375 \nQ 46.6875 64.796875 31.59375 64.796875 \nz\nM 9.8125 72.90625 \nL 30.078125 72.90625 \nQ 51.265625 72.90625 61.171875 64.09375 \nQ 71.09375 55.28125 71.09375 36.53125 \nQ 71.09375 17.671875 61.125 8.828125 \nQ 51.171875 0 30.078125 0 \nL 9.8125 0 \nz\n\" id=\"DejaVuSans-68\"/>\n      </defs>\n      <g transform=\"translate(61.216406 254.356563)scale(0.1 -0.1)\">\n       <use xlink:href=\"#DejaVuSans-70\"/>\n       <use x=\"57.519531\" xlink:href=\"#DejaVuSans-76\"/>\n       <use x=\"113.232422\" xlink:href=\"#DejaVuSans-68\"/>\n      </g>\n     </g>\n    </g>\n    <g id=\"xtick_2\">\n     <g id=\"line2d_2\">\n      <g>\n       <use style=\"stroke:#000000;stroke-width:0.8;\" x=\"126.528125\" xlink:href=\"#m1a0287379d\" y=\"239.758125\"/>\n      </g>\n     </g>\n     <g id=\"text_2\">\n      <!-- LP -->\n      <defs>\n       <path d=\"M 19.671875 64.796875 \nL 19.671875 37.40625 \nL 32.078125 37.40625 \nQ 38.96875 37.40625 42.71875 40.96875 \nQ 46.484375 44.53125 46.484375 51.125 \nQ 46.484375 57.671875 42.71875 61.234375 \nQ 38.96875 64.796875 32.078125 64.796875 \nz\nM 9.8125 72.90625 \nL 32.078125 72.90625 \nQ 44.34375 72.90625 50.609375 67.359375 \nQ 56.890625 61.8125 56.890625 51.125 \nQ 56.890625 40.328125 50.609375 34.8125 \nQ 44.34375 29.296875 32.078125 29.296875 \nL 19.671875 29.296875 \nL 19.671875 0 \nL 9.8125 0 \nz\n\" id=\"DejaVuSans-80\"/>\n      </defs>\n      <g transform=\"translate(120.727344 254.356563)scale(0.1 -0.1)\">\n       <use xlink:href=\"#DejaVuSans-76\"/>\n       <use x=\"55.712891\" xlink:href=\"#DejaVuSans-80\"/>\n      </g>\n     </g>\n    </g>\n    <g id=\"xtick_3\">\n     <g id=\"line2d_3\">\n      <g>\n       <use style=\"stroke:#000000;stroke-width:0.8;\" x=\"182.328125\" xlink:href=\"#m1a0287379d\" y=\"239.758125\"/>\n      </g>\n     </g>\n     <g id=\"text_3\">\n      <!-- NB -->\n      <defs>\n       <path d=\"M 9.8125 72.90625 \nL 23.09375 72.90625 \nL 55.421875 11.921875 \nL 55.421875 72.90625 \nL 64.984375 72.90625 \nL 64.984375 0 \nL 51.703125 0 \nL 19.390625 60.984375 \nL 19.390625 0 \nL 9.8125 0 \nz\n\" id=\"DejaVuSans-78\"/>\n       <path d=\"M 19.671875 34.8125 \nL 19.671875 8.109375 \nL 35.5 8.109375 \nQ 43.453125 8.109375 47.28125 11.40625 \nQ 51.125 14.703125 51.125 21.484375 \nQ 51.125 28.328125 47.28125 31.5625 \nQ 43.453125 34.8125 35.5 34.8125 \nz\nM 19.671875 64.796875 \nL 19.671875 42.828125 \nL 34.28125 42.828125 \nQ 41.5 42.828125 45.03125 45.53125 \nQ 48.578125 48.25 48.578125 53.8125 \nQ 48.578125 59.328125 45.03125 62.0625 \nQ 41.5 64.796875 34.28125 64.796875 \nz\nM 9.8125 72.90625 \nL 35.015625 72.90625 \nQ 46.296875 72.90625 52.390625 68.21875 \nQ 58.5 63.53125 58.5 54.890625 \nQ 58.5 48.1875 55.375 44.234375 \nQ 52.25 40.28125 46.1875 39.3125 \nQ 53.46875 37.75 57.5 32.78125 \nQ 61.53125 27.828125 61.53125 20.40625 \nQ 61.53125 10.640625 54.890625 5.3125 \nQ 48.25 0 35.984375 0 \nL 9.8125 0 \nz\n\" id=\"DejaVuSans-66\"/>\n      </defs>\n      <g transform=\"translate(175.157031 254.356563)scale(0.1 -0.1)\">\n       <use xlink:href=\"#DejaVuSans-78\"/>\n       <use x=\"74.804688\" xlink:href=\"#DejaVuSans-66\"/>\n      </g>\n     </g>\n    </g>\n    <g id=\"xtick_4\">\n     <g id=\"line2d_4\">\n      <g>\n       <use style=\"stroke:#000000;stroke-width:0.8;\" x=\"238.128125\" xlink:href=\"#m1a0287379d\" y=\"239.758125\"/>\n      </g>\n     </g>\n     <g id=\"text_4\">\n      <!-- LR -->\n      <defs>\n       <path d=\"M 44.390625 34.1875 \nQ 47.5625 33.109375 50.5625 29.59375 \nQ 53.5625 26.078125 56.59375 19.921875 \nL 66.609375 0 \nL 56 0 \nL 46.6875 18.703125 \nQ 43.0625 26.03125 39.671875 28.421875 \nQ 36.28125 30.8125 30.421875 30.8125 \nL 19.671875 30.8125 \nL 19.671875 0 \nL 9.8125 0 \nL 9.8125 72.90625 \nL 32.078125 72.90625 \nQ 44.578125 72.90625 50.734375 67.671875 \nQ 56.890625 62.453125 56.890625 51.90625 \nQ 56.890625 45.015625 53.6875 40.46875 \nQ 50.484375 35.9375 44.390625 34.1875 \nz\nM 19.671875 64.796875 \nL 19.671875 38.921875 \nL 32.078125 38.921875 \nQ 39.203125 38.921875 42.84375 42.21875 \nQ 46.484375 45.515625 46.484375 51.90625 \nQ 46.484375 58.296875 42.84375 61.546875 \nQ 39.203125 64.796875 32.078125 64.796875 \nz\n\" id=\"DejaVuSans-82\"/>\n      </defs>\n      <g transform=\"translate(231.867969 254.356563)scale(0.1 -0.1)\">\n       <use xlink:href=\"#DejaVuSans-76\"/>\n       <use x=\"55.712891\" xlink:href=\"#DejaVuSans-82\"/>\n      </g>\n     </g>\n    </g>\n    <g id=\"xtick_5\">\n     <g id=\"line2d_5\">\n      <g>\n       <use style=\"stroke:#000000;stroke-width:0.8;\" x=\"293.928125\" xlink:href=\"#m1a0287379d\" y=\"239.758125\"/>\n      </g>\n     </g>\n     <g id=\"text_5\">\n      <!-- ANN -->\n      <defs>\n       <path d=\"M 34.1875 63.1875 \nL 20.796875 26.90625 \nL 47.609375 26.90625 \nz\nM 28.609375 72.90625 \nL 39.796875 72.90625 \nL 67.578125 0 \nL 57.328125 0 \nL 50.6875 18.703125 \nL 17.828125 18.703125 \nL 11.1875 0 \nL 0.78125 0 \nz\n\" id=\"DejaVuSans-65\"/>\n      </defs>\n      <g transform=\"translate(283.026563 254.356563)scale(0.1 -0.1)\">\n       <use xlink:href=\"#DejaVuSans-65\"/>\n       <use x=\"68.408203\" xlink:href=\"#DejaVuSans-78\"/>\n       <use x=\"143.212891\" xlink:href=\"#DejaVuSans-78\"/>\n      </g>\n     </g>\n    </g>\n    <g id=\"xtick_6\">\n     <g id=\"line2d_6\">\n      <g>\n       <use style=\"stroke:#000000;stroke-width:0.8;\" x=\"349.728125\" xlink:href=\"#m1a0287379d\" y=\"239.758125\"/>\n      </g>\n     </g>\n     <g id=\"text_6\">\n      <!-- SVM -->\n      <defs>\n       <path d=\"M 53.515625 70.515625 \nL 53.515625 60.890625 \nQ 47.90625 63.578125 42.921875 64.890625 \nQ 37.9375 66.21875 33.296875 66.21875 \nQ 25.25 66.21875 20.875 63.09375 \nQ 16.5 59.96875 16.5 54.203125 \nQ 16.5 49.359375 19.40625 46.890625 \nQ 22.3125 44.4375 30.421875 42.921875 \nL 36.375 41.703125 \nQ 47.40625 39.59375 52.65625 34.296875 \nQ 57.90625 29 57.90625 20.125 \nQ 57.90625 9.515625 50.796875 4.046875 \nQ 43.703125 -1.421875 29.984375 -1.421875 \nQ 24.8125 -1.421875 18.96875 -0.25 \nQ 13.140625 0.921875 6.890625 3.21875 \nL 6.890625 13.375 \nQ 12.890625 10.015625 18.65625 8.296875 \nQ 24.421875 6.59375 29.984375 6.59375 \nQ 38.421875 6.59375 43.015625 9.90625 \nQ 47.609375 13.234375 47.609375 19.390625 \nQ 47.609375 24.75 44.3125 27.78125 \nQ 41.015625 30.8125 33.5 32.328125 \nL 27.484375 33.5 \nQ 16.453125 35.6875 11.515625 40.375 \nQ 6.59375 45.0625 6.59375 53.421875 \nQ 6.59375 63.09375 13.40625 68.65625 \nQ 20.21875 74.21875 32.171875 74.21875 \nQ 37.3125 74.21875 42.625 73.28125 \nQ 47.953125 72.359375 53.515625 70.515625 \nz\n\" id=\"DejaVuSans-83\"/>\n       <path d=\"M 28.609375 0 \nL 0.78125 72.90625 \nL 11.078125 72.90625 \nL 34.1875 11.53125 \nL 57.328125 72.90625 \nL 67.578125 72.90625 \nL 39.796875 0 \nz\n\" id=\"DejaVuSans-86\"/>\n       <path d=\"M 9.8125 72.90625 \nL 24.515625 72.90625 \nL 43.109375 23.296875 \nL 61.8125 72.90625 \nL 76.515625 72.90625 \nL 76.515625 0 \nL 66.890625 0 \nL 66.890625 64.015625 \nL 48.09375 14.015625 \nL 38.1875 14.015625 \nL 19.390625 64.015625 \nL 19.390625 0 \nL 9.8125 0 \nz\n\" id=\"DejaVuSans-77\"/>\n      </defs>\n      <g transform=\"translate(338.819531 254.356563)scale(0.1 -0.1)\">\n       <use xlink:href=\"#DejaVuSans-83\"/>\n       <use x=\"63.476562\" xlink:href=\"#DejaVuSans-86\"/>\n       <use x=\"131.884766\" xlink:href=\"#DejaVuSans-77\"/>\n      </g>\n     </g>\n    </g>\n   </g>\n   <g id=\"matplotlib.axis_2\">\n    <g id=\"ytick_1\">\n     <g id=\"line2d_7\">\n      <defs>\n       <path d=\"M 0 0 \nL -3.5 0 \n\" id=\"md49c9e6c8b\" style=\"stroke:#000000;stroke-width:0.8;\"/>\n      </defs>\n      <g>\n       <use style=\"stroke:#000000;stroke-width:0.8;\" x=\"42.828125\" xlink:href=\"#md49c9e6c8b\" y=\"235.80467\"/>\n      </g>\n     </g>\n     <g id=\"text_7\">\n      <!-- 0.980 -->\n      <defs>\n       <path d=\"M 31.78125 66.40625 \nQ 24.171875 66.40625 20.328125 58.90625 \nQ 16.5 51.421875 16.5 36.375 \nQ 16.5 21.390625 20.328125 13.890625 \nQ 24.171875 6.390625 31.78125 6.390625 \nQ 39.453125 6.390625 43.28125 13.890625 \nQ 47.125 21.390625 47.125 36.375 \nQ 47.125 51.421875 43.28125 58.90625 \nQ 39.453125 66.40625 31.78125 66.40625 \nz\nM 31.78125 74.21875 \nQ 44.046875 74.21875 50.515625 64.515625 \nQ 56.984375 54.828125 56.984375 36.375 \nQ 56.984375 17.96875 50.515625 8.265625 \nQ 44.046875 -1.421875 31.78125 -1.421875 \nQ 19.53125 -1.421875 13.0625 8.265625 \nQ 6.59375 17.96875 6.59375 36.375 \nQ 6.59375 54.828125 13.0625 64.515625 \nQ 19.53125 74.21875 31.78125 74.21875 \nz\n\" id=\"DejaVuSans-48\"/>\n       <path d=\"M 10.6875 12.40625 \nL 21 12.40625 \nL 21 0 \nL 10.6875 0 \nz\n\" id=\"DejaVuSans-46\"/>\n       <path d=\"M 10.984375 1.515625 \nL 10.984375 10.5 \nQ 14.703125 8.734375 18.5 7.8125 \nQ 22.3125 6.890625 25.984375 6.890625 \nQ 35.75 6.890625 40.890625 13.453125 \nQ 46.046875 20.015625 46.78125 33.40625 \nQ 43.953125 29.203125 39.59375 26.953125 \nQ 35.25 24.703125 29.984375 24.703125 \nQ 19.046875 24.703125 12.671875 31.3125 \nQ 6.296875 37.9375 6.296875 49.421875 \nQ 6.296875 60.640625 12.9375 67.421875 \nQ 19.578125 74.21875 30.609375 74.21875 \nQ 43.265625 74.21875 49.921875 64.515625 \nQ 56.59375 54.828125 56.59375 36.375 \nQ 56.59375 19.140625 48.40625 8.859375 \nQ 40.234375 -1.421875 26.421875 -1.421875 \nQ 22.703125 -1.421875 18.890625 -0.6875 \nQ 15.09375 0.046875 10.984375 1.515625 \nz\nM 30.609375 32.421875 \nQ 37.25 32.421875 41.125 36.953125 \nQ 45.015625 41.5 45.015625 49.421875 \nQ 45.015625 57.28125 41.125 61.84375 \nQ 37.25 66.40625 30.609375 66.40625 \nQ 23.96875 66.40625 20.09375 61.84375 \nQ 16.21875 57.28125 16.21875 49.421875 \nQ 16.21875 41.5 20.09375 36.953125 \nQ 23.96875 32.421875 30.609375 32.421875 \nz\n\" id=\"DejaVuSans-57\"/>\n       <path d=\"M 31.78125 34.625 \nQ 24.75 34.625 20.71875 30.859375 \nQ 16.703125 27.09375 16.703125 20.515625 \nQ 16.703125 13.921875 20.71875 10.15625 \nQ 24.75 6.390625 31.78125 6.390625 \nQ 38.8125 6.390625 42.859375 10.171875 \nQ 46.921875 13.96875 46.921875 20.515625 \nQ 46.921875 27.09375 42.890625 30.859375 \nQ 38.875 34.625 31.78125 34.625 \nz\nM 21.921875 38.8125 \nQ 15.578125 40.375 12.03125 44.71875 \nQ 8.5 49.078125 8.5 55.328125 \nQ 8.5 64.0625 14.71875 69.140625 \nQ 20.953125 74.21875 31.78125 74.21875 \nQ 42.671875 74.21875 48.875 69.140625 \nQ 55.078125 64.0625 55.078125 55.328125 \nQ 55.078125 49.078125 51.53125 44.71875 \nQ 48 40.375 41.703125 38.8125 \nQ 48.828125 37.15625 52.796875 32.3125 \nQ 56.78125 27.484375 56.78125 20.515625 \nQ 56.78125 9.90625 50.3125 4.234375 \nQ 43.84375 -1.421875 31.78125 -1.421875 \nQ 19.734375 -1.421875 13.25 4.234375 \nQ 6.78125 9.90625 6.78125 20.515625 \nQ 6.78125 27.484375 10.78125 32.3125 \nQ 14.796875 37.15625 21.921875 38.8125 \nz\nM 18.3125 54.390625 \nQ 18.3125 48.734375 21.84375 45.5625 \nQ 25.390625 42.390625 31.78125 42.390625 \nQ 38.140625 42.390625 41.71875 45.5625 \nQ 45.3125 48.734375 45.3125 54.390625 \nQ 45.3125 60.0625 41.71875 63.234375 \nQ 38.140625 66.40625 31.78125 66.40625 \nQ 25.390625 66.40625 21.84375 63.234375 \nQ 18.3125 60.0625 18.3125 54.390625 \nz\n\" id=\"DejaVuSans-56\"/>\n      </defs>\n      <g transform=\"translate(7.2 239.603889)scale(0.1 -0.1)\">\n       <use xlink:href=\"#DejaVuSans-48\"/>\n       <use x=\"63.623047\" xlink:href=\"#DejaVuSans-46\"/>\n       <use x=\"95.410156\" xlink:href=\"#DejaVuSans-57\"/>\n       <use x=\"159.033203\" xlink:href=\"#DejaVuSans-56\"/>\n       <use x=\"222.65625\" xlink:href=\"#DejaVuSans-48\"/>\n      </g>\n     </g>\n    </g>\n    <g id=\"ytick_2\">\n     <g id=\"line2d_8\">\n      <g>\n       <use style=\"stroke:#000000;stroke-width:0.8;\" x=\"42.828125\" xlink:href=\"#md49c9e6c8b\" y=\"203.707561\"/>\n      </g>\n     </g>\n     <g id=\"text_8\">\n      <!-- 0.982 -->\n      <defs>\n       <path d=\"M 19.1875 8.296875 \nL 53.609375 8.296875 \nL 53.609375 0 \nL 7.328125 0 \nL 7.328125 8.296875 \nQ 12.9375 14.109375 22.625 23.890625 \nQ 32.328125 33.6875 34.8125 36.53125 \nQ 39.546875 41.84375 41.421875 45.53125 \nQ 43.3125 49.21875 43.3125 52.78125 \nQ 43.3125 58.59375 39.234375 62.25 \nQ 35.15625 65.921875 28.609375 65.921875 \nQ 23.96875 65.921875 18.8125 64.3125 \nQ 13.671875 62.703125 7.8125 59.421875 \nL 7.8125 69.390625 \nQ 13.765625 71.78125 18.9375 73 \nQ 24.125 74.21875 28.421875 74.21875 \nQ 39.75 74.21875 46.484375 68.546875 \nQ 53.21875 62.890625 53.21875 53.421875 \nQ 53.21875 48.921875 51.53125 44.890625 \nQ 49.859375 40.875 45.40625 35.40625 \nQ 44.1875 33.984375 37.640625 27.21875 \nQ 31.109375 20.453125 19.1875 8.296875 \nz\n\" id=\"DejaVuSans-50\"/>\n      </defs>\n      <g transform=\"translate(7.2 207.50678)scale(0.1 -0.1)\">\n       <use xlink:href=\"#DejaVuSans-48\"/>\n       <use x=\"63.623047\" xlink:href=\"#DejaVuSans-46\"/>\n       <use x=\"95.410156\" xlink:href=\"#DejaVuSans-57\"/>\n       <use x=\"159.033203\" xlink:href=\"#DejaVuSans-56\"/>\n       <use x=\"222.65625\" xlink:href=\"#DejaVuSans-50\"/>\n      </g>\n     </g>\n    </g>\n    <g id=\"ytick_3\">\n     <g id=\"line2d_9\">\n      <g>\n       <use style=\"stroke:#000000;stroke-width:0.8;\" x=\"42.828125\" xlink:href=\"#md49c9e6c8b\" y=\"171.610452\"/>\n      </g>\n     </g>\n     <g id=\"text_9\">\n      <!-- 0.984 -->\n      <defs>\n       <path d=\"M 37.796875 64.3125 \nL 12.890625 25.390625 \nL 37.796875 25.390625 \nz\nM 35.203125 72.90625 \nL 47.609375 72.90625 \nL 47.609375 25.390625 \nL 58.015625 25.390625 \nL 58.015625 17.1875 \nL 47.609375 17.1875 \nL 47.609375 0 \nL 37.796875 0 \nL 37.796875 17.1875 \nL 4.890625 17.1875 \nL 4.890625 26.703125 \nz\n\" id=\"DejaVuSans-52\"/>\n      </defs>\n      <g transform=\"translate(7.2 175.409671)scale(0.1 -0.1)\">\n       <use xlink:href=\"#DejaVuSans-48\"/>\n       <use x=\"63.623047\" xlink:href=\"#DejaVuSans-46\"/>\n       <use x=\"95.410156\" xlink:href=\"#DejaVuSans-57\"/>\n       <use x=\"159.033203\" xlink:href=\"#DejaVuSans-56\"/>\n       <use x=\"222.65625\" xlink:href=\"#DejaVuSans-52\"/>\n      </g>\n     </g>\n    </g>\n    <g id=\"ytick_4\">\n     <g id=\"line2d_10\">\n      <g>\n       <use style=\"stroke:#000000;stroke-width:0.8;\" x=\"42.828125\" xlink:href=\"#md49c9e6c8b\" y=\"139.513343\"/>\n      </g>\n     </g>\n     <g id=\"text_10\">\n      <!-- 0.986 -->\n      <defs>\n       <path d=\"M 33.015625 40.375 \nQ 26.375 40.375 22.484375 35.828125 \nQ 18.609375 31.296875 18.609375 23.390625 \nQ 18.609375 15.53125 22.484375 10.953125 \nQ 26.375 6.390625 33.015625 6.390625 \nQ 39.65625 6.390625 43.53125 10.953125 \nQ 47.40625 15.53125 47.40625 23.390625 \nQ 47.40625 31.296875 43.53125 35.828125 \nQ 39.65625 40.375 33.015625 40.375 \nz\nM 52.59375 71.296875 \nL 52.59375 62.3125 \nQ 48.875 64.0625 45.09375 64.984375 \nQ 41.3125 65.921875 37.59375 65.921875 \nQ 27.828125 65.921875 22.671875 59.328125 \nQ 17.53125 52.734375 16.796875 39.40625 \nQ 19.671875 43.65625 24.015625 45.921875 \nQ 28.375 48.1875 33.59375 48.1875 \nQ 44.578125 48.1875 50.953125 41.515625 \nQ 57.328125 34.859375 57.328125 23.390625 \nQ 57.328125 12.15625 50.6875 5.359375 \nQ 44.046875 -1.421875 33.015625 -1.421875 \nQ 20.359375 -1.421875 13.671875 8.265625 \nQ 6.984375 17.96875 6.984375 36.375 \nQ 6.984375 53.65625 15.1875 63.9375 \nQ 23.390625 74.21875 37.203125 74.21875 \nQ 40.921875 74.21875 44.703125 73.484375 \nQ 48.484375 72.75 52.59375 71.296875 \nz\n\" id=\"DejaVuSans-54\"/>\n      </defs>\n      <g transform=\"translate(7.2 143.312562)scale(0.1 -0.1)\">\n       <use xlink:href=\"#DejaVuSans-48\"/>\n       <use x=\"63.623047\" xlink:href=\"#DejaVuSans-46\"/>\n       <use x=\"95.410156\" xlink:href=\"#DejaVuSans-57\"/>\n       <use x=\"159.033203\" xlink:href=\"#DejaVuSans-56\"/>\n       <use x=\"222.65625\" xlink:href=\"#DejaVuSans-54\"/>\n      </g>\n     </g>\n    </g>\n    <g id=\"ytick_5\">\n     <g id=\"line2d_11\">\n      <g>\n       <use style=\"stroke:#000000;stroke-width:0.8;\" x=\"42.828125\" xlink:href=\"#md49c9e6c8b\" y=\"107.416234\"/>\n      </g>\n     </g>\n     <g id=\"text_11\">\n      <!-- 0.988 -->\n      <g transform=\"translate(7.2 111.215453)scale(0.1 -0.1)\">\n       <use xlink:href=\"#DejaVuSans-48\"/>\n       <use x=\"63.623047\" xlink:href=\"#DejaVuSans-46\"/>\n       <use x=\"95.410156\" xlink:href=\"#DejaVuSans-57\"/>\n       <use x=\"159.033203\" xlink:href=\"#DejaVuSans-56\"/>\n       <use x=\"222.65625\" xlink:href=\"#DejaVuSans-56\"/>\n      </g>\n     </g>\n    </g>\n    <g id=\"ytick_6\">\n     <g id=\"line2d_12\">\n      <g>\n       <use style=\"stroke:#000000;stroke-width:0.8;\" x=\"42.828125\" xlink:href=\"#md49c9e6c8b\" y=\"75.319125\"/>\n      </g>\n     </g>\n     <g id=\"text_12\">\n      <!-- 0.990 -->\n      <g transform=\"translate(7.2 79.118344)scale(0.1 -0.1)\">\n       <use xlink:href=\"#DejaVuSans-48\"/>\n       <use x=\"63.623047\" xlink:href=\"#DejaVuSans-46\"/>\n       <use x=\"95.410156\" xlink:href=\"#DejaVuSans-57\"/>\n       <use x=\"159.033203\" xlink:href=\"#DejaVuSans-57\"/>\n       <use x=\"222.65625\" xlink:href=\"#DejaVuSans-48\"/>\n      </g>\n     </g>\n    </g>\n    <g id=\"ytick_7\">\n     <g id=\"line2d_13\">\n      <g>\n       <use style=\"stroke:#000000;stroke-width:0.8;\" x=\"42.828125\" xlink:href=\"#md49c9e6c8b\" y=\"43.222016\"/>\n      </g>\n     </g>\n     <g id=\"text_13\">\n      <!-- 0.992 -->\n      <g transform=\"translate(7.2 47.021235)scale(0.1 -0.1)\">\n       <use xlink:href=\"#DejaVuSans-48\"/>\n       <use x=\"63.623047\" xlink:href=\"#DejaVuSans-46\"/>\n       <use x=\"95.410156\" xlink:href=\"#DejaVuSans-57\"/>\n       <use x=\"159.033203\" xlink:href=\"#DejaVuSans-57\"/>\n       <use x=\"222.65625\" xlink:href=\"#DejaVuSans-50\"/>\n      </g>\n     </g>\n    </g>\n   </g>\n   <g id=\"line2d_14\">\n    <path clip-path=\"url(#pa7641f9d8b)\" d=\"M 56.778125 152.65858 \nL 84.678125 152.65858 \nL 84.678125 109.455728 \nL 56.778125 109.455728 \nL 56.778125 152.65858 \n\" style=\"fill:none;stroke:#1f77b4;stroke-linecap:square;\"/>\n   </g>\n   <g id=\"line2d_15\">\n    <path clip-path=\"url(#pa7641f9d8b)\" d=\"M 70.728125 152.65858 \nL 70.728125 174.279034 \n\" style=\"fill:none;stroke:#1f77b4;stroke-linecap:square;\"/>\n   </g>\n   <g id=\"line2d_16\">\n    <path clip-path=\"url(#pa7641f9d8b)\" d=\"M 70.728125 109.455728 \nL 70.728125 81.619943 \n\" style=\"fill:none;stroke:#1f77b4;stroke-linecap:square;\"/>\n   </g>\n   <g id=\"line2d_17\">\n    <path clip-path=\"url(#pa7641f9d8b)\" d=\"M 63.753125 174.279034 \nL 77.703125 174.279034 \n\" style=\"fill:none;stroke:#000000;stroke-linecap:square;\"/>\n   </g>\n   <g id=\"line2d_18\">\n    <path clip-path=\"url(#pa7641f9d8b)\" d=\"M 63.753125 81.619943 \nL 77.703125 81.619943 \n\" style=\"fill:none;stroke:#000000;stroke-linecap:square;\"/>\n   </g>\n   <g id=\"line2d_19\"/>\n   <g id=\"line2d_20\">\n    <path clip-path=\"url(#pa7641f9d8b)\" d=\"M 112.578125 214.431307 \nL 140.478125 214.431307 \nL 140.478125 155.747216 \nL 112.578125 155.747216 \nL 112.578125 214.431307 \n\" style=\"fill:none;stroke:#1f77b4;stroke-linecap:square;\"/>\n   </g>\n   <g id=\"line2d_21\">\n    <path clip-path=\"url(#pa7641f9d8b)\" d=\"M 126.528125 214.431307 \nL 126.528125 229.874489 \n\" style=\"fill:none;stroke:#1f77b4;stroke-linecap:square;\"/>\n   </g>\n   <g id=\"line2d_22\">\n    <path clip-path=\"url(#pa7641f9d8b)\" d=\"M 126.528125 155.747216 \nL 126.528125 143.39267 \n\" style=\"fill:none;stroke:#1f77b4;stroke-linecap:square;\"/>\n   </g>\n   <g id=\"line2d_23\">\n    <path clip-path=\"url(#pa7641f9d8b)\" d=\"M 119.553125 229.874489 \nL 133.503125 229.874489 \n\" style=\"fill:none;stroke:#000000;stroke-linecap:square;\"/>\n   </g>\n   <g id=\"line2d_24\">\n    <path clip-path=\"url(#pa7641f9d8b)\" d=\"M 119.553125 143.39267 \nL 133.503125 143.39267 \n\" style=\"fill:none;stroke:#000000;stroke-linecap:square;\"/>\n   </g>\n   <g id=\"line2d_25\"/>\n   <g id=\"line2d_26\">\n    <path clip-path=\"url(#pa7641f9d8b)\" d=\"M 168.378125 192.810852 \nL 196.278125 192.810852 \nL 196.278125 165.013125 \nL 168.378125 165.013125 \nL 168.378125 192.810852 \n\" style=\"fill:none;stroke:#1f77b4;stroke-linecap:square;\"/>\n   </g>\n   <g id=\"line2d_27\">\n    <path clip-path=\"url(#pa7641f9d8b)\" d=\"M 182.328125 192.810852 \nL 182.328125 198.988125 \n\" style=\"fill:none;stroke:#1f77b4;stroke-linecap:square;\"/>\n   </g>\n   <g id=\"line2d_28\">\n    <path clip-path=\"url(#pa7641f9d8b)\" d=\"M 182.328125 165.013125 \nL 182.328125 143.480679 \n\" style=\"fill:none;stroke:#1f77b4;stroke-linecap:square;\"/>\n   </g>\n   <g id=\"line2d_29\">\n    <path clip-path=\"url(#pa7641f9d8b)\" d=\"M 175.353125 198.988125 \nL 189.303125 198.988125 \n\" style=\"fill:none;stroke:#000000;stroke-linecap:square;\"/>\n   </g>\n   <g id=\"line2d_30\">\n    <path clip-path=\"url(#pa7641f9d8b)\" d=\"M 175.353125 143.480679 \nL 189.303125 143.480679 \n\" style=\"fill:none;stroke:#000000;stroke-linecap:square;\"/>\n   </g>\n   <g id=\"line2d_31\"/>\n   <g id=\"line2d_32\">\n    <path clip-path=\"url(#pa7641f9d8b)\" d=\"M 224.178125 100.151761 \nL 252.078125 100.151761 \nL 252.078125 81.619943 \nL 224.178125 81.619943 \nL 224.178125 100.151761 \n\" style=\"fill:none;stroke:#1f77b4;stroke-linecap:square;\"/>\n   </g>\n   <g id=\"line2d_33\">\n    <path clip-path=\"url(#pa7641f9d8b)\" d=\"M 238.128125 100.151761 \nL 238.128125 112.506307 \n\" style=\"fill:none;stroke:#1f77b4;stroke-linecap:square;\"/>\n   </g>\n   <g id=\"line2d_34\">\n    <path clip-path=\"url(#pa7641f9d8b)\" d=\"M 238.128125 81.619943 \nL 238.128125 56.910852 \n\" style=\"fill:none;stroke:#1f77b4;stroke-linecap:square;\"/>\n   </g>\n   <g id=\"line2d_35\">\n    <path clip-path=\"url(#pa7641f9d8b)\" d=\"M 231.153125 112.506307 \nL 245.103125 112.506307 \n\" style=\"fill:none;stroke:#000000;stroke-linecap:square;\"/>\n   </g>\n   <g id=\"line2d_36\">\n    <path clip-path=\"url(#pa7641f9d8b)\" d=\"M 231.153125 56.910852 \nL 245.103125 56.910852 \n\" style=\"fill:none;stroke:#000000;stroke-linecap:square;\"/>\n   </g>\n   <g id=\"line2d_37\"/>\n   <g id=\"line2d_38\">\n    <path clip-path=\"url(#pa7641f9d8b)\" d=\"M 279.978125 84.740691 \nL 307.878125 84.740691 \nL 307.878125 72.354034 \nL 279.978125 72.354034 \nL 279.978125 84.740691 \n\" style=\"fill:none;stroke:#1f77b4;stroke-linecap:square;\"/>\n   </g>\n   <g id=\"line2d_39\">\n    <path clip-path=\"url(#pa7641f9d8b)\" d=\"M 293.928125 84.740691 \nL 293.928125 93.974489 \n\" style=\"fill:none;stroke:#1f77b4;stroke-linecap:square;\"/>\n   </g>\n   <g id=\"line2d_40\">\n    <path clip-path=\"url(#pa7641f9d8b)\" d=\"M 293.928125 72.354034 \nL 293.928125 69.265398 \n\" style=\"fill:none;stroke:#1f77b4;stroke-linecap:square;\"/>\n   </g>\n   <g id=\"line2d_41\">\n    <path clip-path=\"url(#pa7641f9d8b)\" d=\"M 286.953125 93.974489 \nL 300.903125 93.974489 \n\" style=\"fill:none;stroke:#000000;stroke-linecap:square;\"/>\n   </g>\n   <g id=\"line2d_42\">\n    <path clip-path=\"url(#pa7641f9d8b)\" d=\"M 286.953125 69.265398 \nL 300.903125 69.265398 \n\" style=\"fill:none;stroke:#000000;stroke-linecap:square;\"/>\n   </g>\n   <g id=\"line2d_43\">\n    <defs>\n     <path d=\"M 0 3 \nC 0.795609 3 1.55874 2.683901 2.12132 2.12132 \nC 2.683901 1.55874 3 0.795609 3 0 \nC 3 -0.795609 2.683901 -1.55874 2.12132 -2.12132 \nC 1.55874 -2.683901 0.795609 -3 0 -3 \nC -0.795609 -3 -1.55874 -2.683901 -2.12132 -2.12132 \nC -2.683901 -1.55874 -3 -0.795609 -3 0 \nC -3 0.795609 -2.683901 1.55874 -2.12132 2.12132 \nC -1.55874 2.683901 -0.795609 3 0 3 \nz\n\" id=\"m0cadac1cca\" style=\"stroke:#000000;\"/>\n    </defs>\n    <g clip-path=\"url(#pa7641f9d8b)\">\n     <use style=\"fill-opacity:0;stroke:#000000;\" x=\"293.928125\" xlink:href=\"#m0cadac1cca\" y=\"32.201761\"/>\n    </g>\n   </g>\n   <g id=\"line2d_44\">\n    <path clip-path=\"url(#pa7641f9d8b)\" d=\"M 335.778125 84.739502 \nL 363.678125 84.739502 \nL 363.678125 56.910852 \nL 335.778125 56.910852 \nL 335.778125 84.739502 \n\" style=\"fill:none;stroke:#1f77b4;stroke-linecap:square;\"/>\n   </g>\n   <g id=\"line2d_45\">\n    <path clip-path=\"url(#pa7641f9d8b)\" d=\"M 349.728125 84.739502 \nL 349.728125 93.974489 \n\" style=\"fill:none;stroke:#1f77b4;stroke-linecap:square;\"/>\n   </g>\n   <g id=\"line2d_46\">\n    <path clip-path=\"url(#pa7641f9d8b)\" d=\"M 349.728125 56.910852 \nL 349.728125 38.379034 \n\" style=\"fill:none;stroke:#1f77b4;stroke-linecap:square;\"/>\n   </g>\n   <g id=\"line2d_47\">\n    <path clip-path=\"url(#pa7641f9d8b)\" d=\"M 342.753125 93.974489 \nL 356.703125 93.974489 \n\" style=\"fill:none;stroke:#000000;stroke-linecap:square;\"/>\n   </g>\n   <g id=\"line2d_48\">\n    <path clip-path=\"url(#pa7641f9d8b)\" d=\"M 342.753125 38.379034 \nL 356.703125 38.379034 \n\" style=\"fill:none;stroke:#000000;stroke-linecap:square;\"/>\n   </g>\n   <g id=\"line2d_49\"/>\n   <g id=\"line2d_50\">\n    <path clip-path=\"url(#pa7641f9d8b)\" d=\"M 56.778125 118.68358 \nL 84.678125 118.68358 \n\" style=\"fill:none;stroke:#2ca02c;stroke-linecap:square;\"/>\n   </g>\n   <g id=\"line2d_51\">\n    <path clip-path=\"url(#pa7641f9d8b)\" d=\"M 112.578125 168.199285 \nL 140.478125 168.199285 \n\" style=\"fill:none;stroke:#2ca02c;stroke-linecap:square;\"/>\n   </g>\n   <g id=\"line2d_52\">\n    <path clip-path=\"url(#pa7641f9d8b)\" d=\"M 168.378125 186.63358 \nL 196.278125 186.63358 \n\" style=\"fill:none;stroke:#2ca02c;stroke-linecap:square;\"/>\n   </g>\n   <g id=\"line2d_53\">\n    <path clip-path=\"url(#pa7641f9d8b)\" d=\"M 224.178125 87.863817 \nL 252.078125 87.863817 \n\" style=\"fill:none;stroke:#2ca02c;stroke-linecap:square;\"/>\n   </g>\n   <g id=\"line2d_54\">\n    <path clip-path=\"url(#pa7641f9d8b)\" d=\"M 279.978125 75.44267 \nL 307.878125 75.44267 \n\" style=\"fill:none;stroke:#2ca02c;stroke-linecap:square;\"/>\n   </g>\n   <g id=\"line2d_55\">\n    <path clip-path=\"url(#pa7641f9d8b)\" d=\"M 335.778125 75.44267 \nL 363.678125 75.44267 \n\" style=\"fill:none;stroke:#2ca02c;stroke-linecap:square;\"/>\n   </g>\n   <g id=\"patch_3\">\n    <path d=\"M 42.828125 239.758125 \nL 42.828125 22.318125 \n\" style=\"fill:none;stroke:#000000;stroke-linecap:square;stroke-linejoin:miter;stroke-width:0.8;\"/>\n   </g>\n   <g id=\"patch_4\">\n    <path d=\"M 377.628125 239.758125 \nL 377.628125 22.318125 \n\" style=\"fill:none;stroke:#000000;stroke-linecap:square;stroke-linejoin:miter;stroke-width:0.8;\"/>\n   </g>\n   <g id=\"patch_5\">\n    <path d=\"M 42.828125 239.758125 \nL 377.628125 239.758125 \n\" style=\"fill:none;stroke:#000000;stroke-linecap:square;stroke-linejoin:miter;stroke-width:0.8;\"/>\n   </g>\n   <g id=\"patch_6\">\n    <path d=\"M 42.828125 22.318125 \nL 377.628125 22.318125 \n\" style=\"fill:none;stroke:#000000;stroke-linecap:square;stroke-linejoin:miter;stroke-width:0.8;\"/>\n   </g>\n   <g id=\"text_14\">\n    <!-- Boxplot for different Classifiers -->\n    <defs>\n     <path d=\"M 30.609375 48.390625 \nQ 23.390625 48.390625 19.1875 42.75 \nQ 14.984375 37.109375 14.984375 27.296875 \nQ 14.984375 17.484375 19.15625 11.84375 \nQ 23.34375 6.203125 30.609375 6.203125 \nQ 37.796875 6.203125 41.984375 11.859375 \nQ 46.1875 17.53125 46.1875 27.296875 \nQ 46.1875 37.015625 41.984375 42.703125 \nQ 37.796875 48.390625 30.609375 48.390625 \nz\nM 30.609375 56 \nQ 42.328125 56 49.015625 48.375 \nQ 55.71875 40.765625 55.71875 27.296875 \nQ 55.71875 13.875 49.015625 6.21875 \nQ 42.328125 -1.421875 30.609375 -1.421875 \nQ 18.84375 -1.421875 12.171875 6.21875 \nQ 5.515625 13.875 5.515625 27.296875 \nQ 5.515625 40.765625 12.171875 48.375 \nQ 18.84375 56 30.609375 56 \nz\n\" id=\"DejaVuSans-111\"/>\n     <path d=\"M 54.890625 54.6875 \nL 35.109375 28.078125 \nL 55.90625 0 \nL 45.3125 0 \nL 29.390625 21.484375 \nL 13.484375 0 \nL 2.875 0 \nL 24.125 28.609375 \nL 4.6875 54.6875 \nL 15.28125 54.6875 \nL 29.78125 35.203125 \nL 44.28125 54.6875 \nz\n\" id=\"DejaVuSans-120\"/>\n     <path d=\"M 18.109375 8.203125 \nL 18.109375 -20.796875 \nL 9.078125 -20.796875 \nL 9.078125 54.6875 \nL 18.109375 54.6875 \nL 18.109375 46.390625 \nQ 20.953125 51.265625 25.265625 53.625 \nQ 29.59375 56 35.59375 56 \nQ 45.5625 56 51.78125 48.09375 \nQ 58.015625 40.1875 58.015625 27.296875 \nQ 58.015625 14.40625 51.78125 6.484375 \nQ 45.5625 -1.421875 35.59375 -1.421875 \nQ 29.59375 -1.421875 25.265625 0.953125 \nQ 20.953125 3.328125 18.109375 8.203125 \nz\nM 48.6875 27.296875 \nQ 48.6875 37.203125 44.609375 42.84375 \nQ 40.53125 48.484375 33.40625 48.484375 \nQ 26.265625 48.484375 22.1875 42.84375 \nQ 18.109375 37.203125 18.109375 27.296875 \nQ 18.109375 17.390625 22.1875 11.75 \nQ 26.265625 6.109375 33.40625 6.109375 \nQ 40.53125 6.109375 44.609375 11.75 \nQ 48.6875 17.390625 48.6875 27.296875 \nz\n\" id=\"DejaVuSans-112\"/>\n     <path d=\"M 9.421875 75.984375 \nL 18.40625 75.984375 \nL 18.40625 0 \nL 9.421875 0 \nz\n\" id=\"DejaVuSans-108\"/>\n     <path d=\"M 18.3125 70.21875 \nL 18.3125 54.6875 \nL 36.8125 54.6875 \nL 36.8125 47.703125 \nL 18.3125 47.703125 \nL 18.3125 18.015625 \nQ 18.3125 11.328125 20.140625 9.421875 \nQ 21.96875 7.515625 27.59375 7.515625 \nL 36.8125 7.515625 \nL 36.8125 0 \nL 27.59375 0 \nQ 17.1875 0 13.234375 3.875 \nQ 9.28125 7.765625 9.28125 18.015625 \nL 9.28125 47.703125 \nL 2.6875 47.703125 \nL 2.6875 54.6875 \nL 9.28125 54.6875 \nL 9.28125 70.21875 \nz\n\" id=\"DejaVuSans-116\"/>\n     <path id=\"DejaVuSans-32\"/>\n     <path d=\"M 37.109375 75.984375 \nL 37.109375 68.5 \nL 28.515625 68.5 \nQ 23.6875 68.5 21.796875 66.546875 \nQ 19.921875 64.59375 19.921875 59.515625 \nL 19.921875 54.6875 \nL 34.71875 54.6875 \nL 34.71875 47.703125 \nL 19.921875 47.703125 \nL 19.921875 0 \nL 10.890625 0 \nL 10.890625 47.703125 \nL 2.296875 47.703125 \nL 2.296875 54.6875 \nL 10.890625 54.6875 \nL 10.890625 58.5 \nQ 10.890625 67.625 15.140625 71.796875 \nQ 19.390625 75.984375 28.609375 75.984375 \nz\n\" id=\"DejaVuSans-102\"/>\n     <path d=\"M 41.109375 46.296875 \nQ 39.59375 47.171875 37.8125 47.578125 \nQ 36.03125 48 33.890625 48 \nQ 26.265625 48 22.1875 43.046875 \nQ 18.109375 38.09375 18.109375 28.8125 \nL 18.109375 0 \nL 9.078125 0 \nL 9.078125 54.6875 \nL 18.109375 54.6875 \nL 18.109375 46.1875 \nQ 20.953125 51.171875 25.484375 53.578125 \nQ 30.03125 56 36.53125 56 \nQ 37.453125 56 38.578125 55.875 \nQ 39.703125 55.765625 41.0625 55.515625 \nz\n\" id=\"DejaVuSans-114\"/>\n     <path d=\"M 45.40625 46.390625 \nL 45.40625 75.984375 \nL 54.390625 75.984375 \nL 54.390625 0 \nL 45.40625 0 \nL 45.40625 8.203125 \nQ 42.578125 3.328125 38.25 0.953125 \nQ 33.9375 -1.421875 27.875 -1.421875 \nQ 17.96875 -1.421875 11.734375 6.484375 \nQ 5.515625 14.40625 5.515625 27.296875 \nQ 5.515625 40.1875 11.734375 48.09375 \nQ 17.96875 56 27.875 56 \nQ 33.9375 56 38.25 53.625 \nQ 42.578125 51.265625 45.40625 46.390625 \nz\nM 14.796875 27.296875 \nQ 14.796875 17.390625 18.875 11.75 \nQ 22.953125 6.109375 30.078125 6.109375 \nQ 37.203125 6.109375 41.296875 11.75 \nQ 45.40625 17.390625 45.40625 27.296875 \nQ 45.40625 37.203125 41.296875 42.84375 \nQ 37.203125 48.484375 30.078125 48.484375 \nQ 22.953125 48.484375 18.875 42.84375 \nQ 14.796875 37.203125 14.796875 27.296875 \nz\n\" id=\"DejaVuSans-100\"/>\n     <path d=\"M 9.421875 54.6875 \nL 18.40625 54.6875 \nL 18.40625 0 \nL 9.421875 0 \nz\nM 9.421875 75.984375 \nL 18.40625 75.984375 \nL 18.40625 64.59375 \nL 9.421875 64.59375 \nz\n\" id=\"DejaVuSans-105\"/>\n     <path d=\"M 56.203125 29.59375 \nL 56.203125 25.203125 \nL 14.890625 25.203125 \nQ 15.484375 15.921875 20.484375 11.0625 \nQ 25.484375 6.203125 34.421875 6.203125 \nQ 39.59375 6.203125 44.453125 7.46875 \nQ 49.3125 8.734375 54.109375 11.28125 \nL 54.109375 2.78125 \nQ 49.265625 0.734375 44.1875 -0.34375 \nQ 39.109375 -1.421875 33.890625 -1.421875 \nQ 20.796875 -1.421875 13.15625 6.1875 \nQ 5.515625 13.8125 5.515625 26.8125 \nQ 5.515625 40.234375 12.765625 48.109375 \nQ 20.015625 56 32.328125 56 \nQ 43.359375 56 49.78125 48.890625 \nQ 56.203125 41.796875 56.203125 29.59375 \nz\nM 47.21875 32.234375 \nQ 47.125 39.59375 43.09375 43.984375 \nQ 39.0625 48.390625 32.421875 48.390625 \nQ 24.90625 48.390625 20.390625 44.140625 \nQ 15.875 39.890625 15.1875 32.171875 \nz\n\" id=\"DejaVuSans-101\"/>\n     <path d=\"M 54.890625 33.015625 \nL 54.890625 0 \nL 45.90625 0 \nL 45.90625 32.71875 \nQ 45.90625 40.484375 42.875 44.328125 \nQ 39.84375 48.1875 33.796875 48.1875 \nQ 26.515625 48.1875 22.3125 43.546875 \nQ 18.109375 38.921875 18.109375 30.90625 \nL 18.109375 0 \nL 9.078125 0 \nL 9.078125 54.6875 \nL 18.109375 54.6875 \nL 18.109375 46.1875 \nQ 21.34375 51.125 25.703125 53.5625 \nQ 30.078125 56 35.796875 56 \nQ 45.21875 56 50.046875 50.171875 \nQ 54.890625 44.34375 54.890625 33.015625 \nz\n\" id=\"DejaVuSans-110\"/>\n     <path d=\"M 64.40625 67.28125 \nL 64.40625 56.890625 \nQ 59.421875 61.53125 53.78125 63.8125 \nQ 48.140625 66.109375 41.796875 66.109375 \nQ 29.296875 66.109375 22.65625 58.46875 \nQ 16.015625 50.828125 16.015625 36.375 \nQ 16.015625 21.96875 22.65625 14.328125 \nQ 29.296875 6.6875 41.796875 6.6875 \nQ 48.140625 6.6875 53.78125 8.984375 \nQ 59.421875 11.28125 64.40625 15.921875 \nL 64.40625 5.609375 \nQ 59.234375 2.09375 53.4375 0.328125 \nQ 47.65625 -1.421875 41.21875 -1.421875 \nQ 24.65625 -1.421875 15.125 8.703125 \nQ 5.609375 18.84375 5.609375 36.375 \nQ 5.609375 53.953125 15.125 64.078125 \nQ 24.65625 74.21875 41.21875 74.21875 \nQ 47.75 74.21875 53.53125 72.484375 \nQ 59.328125 70.75 64.40625 67.28125 \nz\n\" id=\"DejaVuSans-67\"/>\n     <path d=\"M 34.28125 27.484375 \nQ 23.390625 27.484375 19.1875 25 \nQ 14.984375 22.515625 14.984375 16.5 \nQ 14.984375 11.71875 18.140625 8.90625 \nQ 21.296875 6.109375 26.703125 6.109375 \nQ 34.1875 6.109375 38.703125 11.40625 \nQ 43.21875 16.703125 43.21875 25.484375 \nL 43.21875 27.484375 \nz\nM 52.203125 31.203125 \nL 52.203125 0 \nL 43.21875 0 \nL 43.21875 8.296875 \nQ 40.140625 3.328125 35.546875 0.953125 \nQ 30.953125 -1.421875 24.3125 -1.421875 \nQ 15.921875 -1.421875 10.953125 3.296875 \nQ 6 8.015625 6 15.921875 \nQ 6 25.140625 12.171875 29.828125 \nQ 18.359375 34.515625 30.609375 34.515625 \nL 43.21875 34.515625 \nL 43.21875 35.40625 \nQ 43.21875 41.609375 39.140625 45 \nQ 35.0625 48.390625 27.6875 48.390625 \nQ 23 48.390625 18.546875 47.265625 \nQ 14.109375 46.140625 10.015625 43.890625 \nL 10.015625 52.203125 \nQ 14.9375 54.109375 19.578125 55.046875 \nQ 24.21875 56 28.609375 56 \nQ 40.484375 56 46.34375 49.84375 \nQ 52.203125 43.703125 52.203125 31.203125 \nz\n\" id=\"DejaVuSans-97\"/>\n     <path d=\"M 44.28125 53.078125 \nL 44.28125 44.578125 \nQ 40.484375 46.53125 36.375 47.5 \nQ 32.28125 48.484375 27.875 48.484375 \nQ 21.1875 48.484375 17.84375 46.4375 \nQ 14.5 44.390625 14.5 40.28125 \nQ 14.5 37.15625 16.890625 35.375 \nQ 19.28125 33.59375 26.515625 31.984375 \nL 29.59375 31.296875 \nQ 39.15625 29.25 43.1875 25.515625 \nQ 47.21875 21.78125 47.21875 15.09375 \nQ 47.21875 7.46875 41.1875 3.015625 \nQ 35.15625 -1.421875 24.609375 -1.421875 \nQ 20.21875 -1.421875 15.453125 -0.5625 \nQ 10.6875 0.296875 5.421875 2 \nL 5.421875 11.28125 \nQ 10.40625 8.6875 15.234375 7.390625 \nQ 20.0625 6.109375 24.8125 6.109375 \nQ 31.15625 6.109375 34.5625 8.28125 \nQ 37.984375 10.453125 37.984375 14.40625 \nQ 37.984375 18.0625 35.515625 20.015625 \nQ 33.0625 21.96875 24.703125 23.78125 \nL 21.578125 24.515625 \nQ 13.234375 26.265625 9.515625 29.90625 \nQ 5.8125 33.546875 5.8125 39.890625 \nQ 5.8125 47.609375 11.28125 51.796875 \nQ 16.75 56 26.8125 56 \nQ 31.78125 56 36.171875 55.265625 \nQ 40.578125 54.546875 44.28125 53.078125 \nz\n\" id=\"DejaVuSans-115\"/>\n    </defs>\n    <g transform=\"translate(117.521563 16.318125)scale(0.12 -0.12)\">\n     <use xlink:href=\"#DejaVuSans-66\"/>\n     <use x=\"68.603516\" xlink:href=\"#DejaVuSans-111\"/>\n     <use x=\"126.660156\" xlink:href=\"#DejaVuSans-120\"/>\n     <use x=\"185.839844\" xlink:href=\"#DejaVuSans-112\"/>\n     <use x=\"249.316406\" xlink:href=\"#DejaVuSans-108\"/>\n     <use x=\"277.099609\" xlink:href=\"#DejaVuSans-111\"/>\n     <use x=\"338.28125\" xlink:href=\"#DejaVuSans-116\"/>\n     <use x=\"377.490234\" xlink:href=\"#DejaVuSans-32\"/>\n     <use x=\"409.277344\" xlink:href=\"#DejaVuSans-102\"/>\n     <use x=\"444.482422\" xlink:href=\"#DejaVuSans-111\"/>\n     <use x=\"505.664062\" xlink:href=\"#DejaVuSans-114\"/>\n     <use x=\"546.777344\" xlink:href=\"#DejaVuSans-32\"/>\n     <use x=\"578.564453\" xlink:href=\"#DejaVuSans-100\"/>\n     <use x=\"642.041016\" xlink:href=\"#DejaVuSans-105\"/>\n     <use x=\"669.824219\" xlink:href=\"#DejaVuSans-102\"/>\n     <use x=\"705.029297\" xlink:href=\"#DejaVuSans-102\"/>\n     <use x=\"740.234375\" xlink:href=\"#DejaVuSans-101\"/>\n     <use x=\"801.757812\" xlink:href=\"#DejaVuSans-114\"/>\n     <use x=\"840.621094\" xlink:href=\"#DejaVuSans-101\"/>\n     <use x=\"902.144531\" xlink:href=\"#DejaVuSans-110\"/>\n     <use x=\"965.523438\" xlink:href=\"#DejaVuSans-116\"/>\n     <use x=\"1004.732422\" xlink:href=\"#DejaVuSans-32\"/>\n     <use x=\"1036.519531\" xlink:href=\"#DejaVuSans-67\"/>\n     <use x=\"1106.34375\" xlink:href=\"#DejaVuSans-108\"/>\n     <use x=\"1134.126953\" xlink:href=\"#DejaVuSans-97\"/>\n     <use x=\"1195.40625\" xlink:href=\"#DejaVuSans-115\"/>\n     <use x=\"1247.505859\" xlink:href=\"#DejaVuSans-115\"/>\n     <use x=\"1299.605469\" xlink:href=\"#DejaVuSans-105\"/>\n     <use x=\"1327.388672\" xlink:href=\"#DejaVuSans-102\"/>\n     <use x=\"1362.59375\" xlink:href=\"#DejaVuSans-105\"/>\n     <use x=\"1390.376953\" xlink:href=\"#DejaVuSans-101\"/>\n     <use x=\"1451.900391\" xlink:href=\"#DejaVuSans-114\"/>\n     <use x=\"1493.013672\" xlink:href=\"#DejaVuSans-115\"/>\n    </g>\n   </g>\n  </g>\n </g>\n <defs>\n  <clipPath id=\"pa7641f9d8b\">\n   <rect height=\"217.44\" width=\"334.8\" x=\"42.828125\" y=\"22.318125\"/>\n  </clipPath>\n </defs>\n</svg>\n",
      "image/png": "[encoded data removed]"
     },
     "metadata": {
      "needs_background": "light"
     }
    }
   ],
   "source": [
    "df2.plot.box(title='Boxplot for different Classifiers')"
   ]
  },
  {
   "cell_type": "code",
   "execution_count": 21,
   "metadata": {},
   "outputs": [
    {
     "output_type": "execute_result",
     "data": {
      "text/plain": [
       "            FLD        LP        NB        LR       ANN       SVM\n",
       "count  7.000000  7.000000  7.000000  7.000000  7.000000  7.000000\n",
       "mean   0.986692  0.983283  0.983613  0.989167  0.990102  0.990322\n",
       "std    0.002094  0.002220  0.001272  0.001164  0.001252  0.001304\n",
       "min    0.983834  0.980370  0.982294  0.987683  0.988838  0.988838\n",
       "25%    0.985181  0.981332  0.982679  0.988453  0.989413  0.989413\n",
       "50%    0.987298  0.984213  0.983064  0.989218  0.989992  0.989992\n",
       "75%    0.987873  0.984988  0.984411  0.989607  0.990185  0.991147\n",
       "max    0.989607  0.985758  0.985753  0.991147  0.992687  0.992302"
      ],
      "text/html": "<div>\n<style scoped>\n    .dataframe tbody tr th:only-of-type {\n        vertical-align: middle;\n    }\n\n    .dataframe tbody tr th {\n        vertical-align: top;\n    }\n\n    .dataframe thead th {\n        text-align: right;\n    }\n</style>\n<table border=\"1\" class=\"dataframe\">\n  <thead>\n    <tr style=\"text-align: right;\">\n      <th></th>\n      <th>FLD</th>\n      <th>LP</th>\n      <th>NB</th>\n      <th>LR</th>\n      <th>ANN</th>\n      <th>SVM</th>\n    </tr>\n  </thead>\n  <tbody>\n    <tr>\n      <th>count</th>\n      <td>7.000000</td>\n      <td>7.000000</td>\n      <td>7.000000</td>\n      <td>7.000000</td>\n      <td>7.000000</td>\n      <td>7.000000</td>\n    </tr>\n    <tr>\n      <th>mean</th>\n      <td>0.986692</td>\n      <td>0.983283</td>\n      <td>0.983613</td>\n      <td>0.989167</td>\n      <td>0.990102</td>\n      <td>0.990322</td>\n    </tr>\n    <tr>\n      <th>std</th>\n      <td>0.002094</td>\n      <td>0.002220</td>\n      <td>0.001272</td>\n      <td>0.001164</td>\n      <td>0.001252</td>\n      <td>0.001304</td>\n    </tr>\n    <tr>\n      <th>min</th>\n      <td>0.983834</td>\n      <td>0.980370</td>\n      <td>0.982294</td>\n      <td>0.987683</td>\n      <td>0.988838</td>\n      <td>0.988838</td>\n    </tr>\n    <tr>\n      <th>25%</th>\n      <td>0.985181</td>\n      <td>0.981332</td>\n      <td>0.982679</td>\n      <td>0.988453</td>\n      <td>0.989413</td>\n      <td>0.989413</td>\n    </tr>\n    <tr>\n      <th>50%</th>\n      <td>0.987298</td>\n      <td>0.984213</td>\n      <td>0.983064</td>\n      <td>0.989218</td>\n      <td>0.989992</td>\n      <td>0.989992</td>\n    </tr>\n    <tr>\n      <th>75%</th>\n      <td>0.987873</td>\n      <td>0.984988</td>\n      <td>0.984411</td>\n      <td>0.989607</td>\n      <td>0.990185</td>\n      <td>0.991147</td>\n    </tr>\n    <tr>\n      <th>max</th>\n      <td>0.989607</td>\n      <td>0.985758</td>\n      <td>0.985753</td>\n      <td>0.991147</td>\n      <td>0.992687</td>\n      <td>0.992302</td>\n    </tr>\n  </tbody>\n</table>\n</div>"
     },
     "metadata": {},
     "execution_count": 21
    }
   ],
   "source": [
    "df2.describe()"
   ]
  },
  {
   "cell_type": "code",
   "execution_count": 23,
   "metadata": {},
   "outputs": [
    {
     "output_type": "stream",
     "name": "stdout",
     "text": [
      "MSE for Test\n"
     ]
    },
    {
     "output_type": "execute_result",
     "data": {
      "text/plain": [
       "            FLD        LP        NB        LR       ANN       SVM\n",
       "count  7.000000  7.000000  7.000000  7.000000  7.000000  7.000000\n",
       "mean   0.013308  0.016717  0.016387  0.010833  0.009898  0.009678\n",
       "std    0.002094  0.002220  0.001272  0.001164  0.001252  0.001304\n",
       "min    0.010393  0.014242  0.014247  0.008853  0.007313  0.007698\n",
       "25%    0.012127  0.015012  0.015589  0.010393  0.009815  0.008853\n",
       "50%    0.012702  0.015787  0.016936  0.010782  0.010008  0.010008\n",
       "75%    0.014819  0.018668  0.017321  0.011547  0.010587  0.010587\n",
       "max    0.016166  0.019630  0.017706  0.012317  0.011162  0.011162"
      ],
      "text/html": "<div>\n<style scoped>\n    .dataframe tbody tr th:only-of-type {\n        vertical-align: middle;\n    }\n\n    .dataframe tbody tr th {\n        vertical-align: top;\n    }\n\n    .dataframe thead th {\n        text-align: right;\n    }\n</style>\n<table border=\"1\" class=\"dataframe\">\n  <thead>\n    <tr style=\"text-align: right;\">\n      <th></th>\n      <th>FLD</th>\n      <th>LP</th>\n      <th>NB</th>\n      <th>LR</th>\n      <th>ANN</th>\n      <th>SVM</th>\n    </tr>\n  </thead>\n  <tbody>\n    <tr>\n      <th>count</th>\n      <td>7.000000</td>\n      <td>7.000000</td>\n      <td>7.000000</td>\n      <td>7.000000</td>\n      <td>7.000000</td>\n      <td>7.000000</td>\n    </tr>\n    <tr>\n      <th>mean</th>\n      <td>0.013308</td>\n      <td>0.016717</td>\n      <td>0.016387</td>\n      <td>0.010833</td>\n      <td>0.009898</td>\n      <td>0.009678</td>\n    </tr>\n    <tr>\n      <th>std</th>\n      <td>0.002094</td>\n      <td>0.002220</td>\n      <td>0.001272</td>\n      <td>0.001164</td>\n      <td>0.001252</td>\n      <td>0.001304</td>\n    </tr>\n    <tr>\n      <th>min</th>\n      <td>0.010393</td>\n      <td>0.014242</td>\n      <td>0.014247</td>\n      <td>0.008853</td>\n      <td>0.007313</td>\n      <td>0.007698</td>\n    </tr>\n    <tr>\n      <th>25%</th>\n      <td>0.012127</td>\n      <td>0.015012</td>\n      <td>0.015589</td>\n      <td>0.010393</td>\n      <td>0.009815</td>\n      <td>0.008853</td>\n    </tr>\n    <tr>\n      <th>50%</th>\n      <td>0.012702</td>\n      <td>0.015787</td>\n      <td>0.016936</td>\n      <td>0.010782</td>\n      <td>0.010008</td>\n      <td>0.010008</td>\n    </tr>\n    <tr>\n      <th>75%</th>\n      <td>0.014819</td>\n      <td>0.018668</td>\n      <td>0.017321</td>\n      <td>0.011547</td>\n      <td>0.010587</td>\n      <td>0.010587</td>\n    </tr>\n    <tr>\n      <th>max</th>\n      <td>0.016166</td>\n      <td>0.019630</td>\n      <td>0.017706</td>\n      <td>0.012317</td>\n      <td>0.011162</td>\n      <td>0.011162</td>\n    </tr>\n  </tbody>\n</table>\n</div>"
     },
     "metadata": {},
     "execution_count": 23
    }
   ],
   "source": [
    "df3 = pd.DataFrame({'FLD': ob1.test_mean_Sq_error , 'LP': ob2.test_mean_Sq_error, 'NB': ob3.test_mean_Sq_error, 'LR': ob4.test_mean_Sq_error, 'ANN': ob5.test_mean_Sq_error, 'SVM':ob6.test_mean_Sq_error})\n",
    "print(\"MSE for Test\")\n",
    "df3.describe()"
   ]
  },
  {
   "cell_type": "code",
   "execution_count": null,
   "metadata": {},
   "outputs": [],
   "source": []
  }
 ]
}